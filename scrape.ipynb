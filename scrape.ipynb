{
 "cells": [
  {
   "cell_type": "code",
   "execution_count": 4,
   "metadata": {},
   "outputs": [],
   "source": [
    "import requests\n",
    "import json\n",
    "import bs4\n",
    "import re"
   ]
  },
  {
   "cell_type": "code",
   "execution_count": 5,
   "metadata": {},
   "outputs": [
    {
     "name": "stdout",
     "output_type": "stream",
     "text": [
      "[\n",
      "  {\n",
      "    \"title\": \"Anies Harap Kesultanan Ternate Terus Jadi Kekuatan Persatuan\",\n",
      "    \"href\": \"https://www.metrotvnews.com/play/KXyCAOP4-anies-harap-kesultanan-ternate-terus-jadi-kekuatan-persatuan\"\n",
      "  },\n",
      "  {\n",
      "    \"title\": \"Bertemu Anies Baswedan, Sultan Ternate: Sudah Idola Sejak Dia Jadi Rektor\",\n",
      "    \"href\": \"https://nasional.tempo.co/read/1826337/bertemu-anies-baswedan-sultan-ternate-sudah-idola-sejak-dia-jadi-rektor\"\n",
      "  },\n",
      "  {\n",
      "    \"title\": \"Anies Minta Timnya Batalkan untuk Melaporkan Presiden Jokowi ke Bawaslu\",\n",
      "    \"href\": \"https://pemilukita.republika.co.id/berita/s7v9kf484/anies-minta-timnya-batalkan-untuk-melaporkan-presiden-jokowi-ke-bawaslu\"\n",
      "  },\n",
      "  {\n",
      "    \"title\": \"Anies ajak pendukung menangi Pilpres lewat 40 rumah\",\n",
      "    \"href\": \"https://aceh.antaranews.com/berita/352842/anies-ajak-pendukung-menangi-pilpres-lewat-40-rumah\"\n",
      "  },\n",
      "  {\n",
      "    \"title\": \"Fokus Pemenangan, Anies Anggap Tak Perlu Bikin Laporan ke Bawaslu soal \\nPernyataan Jokowi\",\n",
      "    \"href\": \"https://www.inilah.com/fokus-pemenangan-anies-anggap-tak-perlu-bikin-laporan-ke-bawaslu-soal-pernyataan-jokowi\"\n",
      "  },\n",
      "  {\n",
      "    \"title\": \"Anies Perintahkan Timnya Cabut Laporan Terhadap Jokowi\",\n",
      "    \"href\": \"https://www.republika.id/posts/49960/anies-perintahkan-timnya-cabut-laporan-terhadap-jokowi\"\n",
      "  },\n",
      "  {\n",
      "    \"title\": \"Momen Seorang Warga Sebut Prabowo Pengkhianat saat Anies Kampanye di Padang\",\n",
      "    \"href\": \"https://www.detik.com/sumut/berita/d-7162189/momen-seorang-warga-sebut-prabowo-pengkhianat-saat-anies-kampanye-di-padang\"\n",
      "  },\n",
      "  {\n",
      "    \"title\": \"Bawaslu Hentikan Laporan Anies Dianggap Fitnah Prabowo soal Kepemilikan \\nLahan - Kompas.com\",\n",
      "    \"href\": \"https://nasional.kompas.com/read/2024/01/26/20565811/bawaslu-hentikan-laporan-anies-dianggap-fitnah-prabowo-soal-kepemilikan\"\n",
      "  },\n",
      "  {\n",
      "    \"title\": \"Anies Perintahkan Timsesnya Cabut Laporan Terhadap Jokowi di Bawaslu\",\n",
      "    \"href\": \"https://kabar24.bisnis.com/read/20240126/15/1735843/anies-perintahkan-timsesnya-cabut-laporan-terhadap-jokowi-di-bawaslu\"\n",
      "  },\n",
      "  {\n",
      "    \"title\": \"Anies Janjikan Pemerataan Pembangunan dan Pendidikan di Maluku Utara\",\n",
      "    \"href\": \"https://www.detik.com/sulsel/berita/d-7162451/anies-janjikan-pemerataan-pembangunan-dan-pendidikan-di-maluku-utara\"\n",
      "  }\n",
      "]\n"
     ]
    }
   ],
   "source": [
    "keyword = 'anies'\n",
    "response = requests.get(f'https://www.google.com/search?q={keyword}&tbm=nws&start=10', headers={'User-Agent': 'Mozilla/5.0 (Macintosh; Intel Mac OS X 10.15; rv:121.0) Gecko/20100101 Firefox/121.0'})\n",
    "response.raise_for_status()\n",
    "soup = bs4.BeautifulSoup(response.text, 'html.parser')\n",
    "linkElems = soup.select('a.WlydOe')\n",
    "links = []\n",
    "for linkElem in linkElems:\n",
    "    titleElem = linkElem.select_one('div.n0jPhd')\n",
    "    links.append({\n",
    "        'title': titleElem.getText(),\n",
    "        'href': linkElem.get('href')\n",
    "    })\n",
    "print(json.dumps(links, indent=2))"
   ]
  },
  {
   "cell_type": "code",
   "execution_count": 10,
   "metadata": {},
   "outputs": [
    {
     "name": "stdout",
     "output_type": "stream",
     "text": [
      "[\n",
      "  {\n",
      "    \"title\": \"Anies Harap Kesultanan Ternate Terus Jadi Kekuatan Persatuan\",\n",
      "    \"href\": \"https://www.metrotvnews.com/play/KXyCAOP4-anies-harap-kesultanan-ternate-terus-jadi-kekuatan-persatuan\",\n",
      "    \"content\": \"\"\n",
      "  },\n",
      "  {\n",
      "    \"title\": \"Bertemu Anies Baswedan, Sultan Ternate: Sudah Idola Sejak Dia Jadi Rektor\",\n",
      "    \"href\": \"https://nasional.tempo.co/read/1826337/bertemu-anies-baswedan-sultan-ternate-sudah-idola-sejak-dia-jadi-rektor\",\n",
      "    \"content\": \"Kami telah mengirimkan link aktivasi melalui email ke rudihamdani@gmail.com.\\nTEMPO.CO, Jakarta - Calon presiden nomor satu Anies Baswedan hari ini bersilaturahmi ke Kedaton Kesultanan Ternate di Maluku Utara dalam rangkaian kampanye Pilpres 2024. Anies juga menyambangi keluarga besar kesultanan dan Sultan Ternate ke-49, Hidayatullah Sjah. Kunjungan itu disambut dengan adat Joko Kaha.\\n\\\"Kami bersyukur sekali bisa bersilaturahmi dengan Sultan Ternate ke-49. Ini adalah sebuah kehormatan karena kami datang ke sebuah Kesultanan yang menjadi legenda di Nusantara,\\\" kata Anies, dalam keterangan tertulis, Jumat, 26 Januari 2024.\\nSultan Ternate ke-49, Hidayatullah Sjah, mengatakan mengidolakan sosok Anies, calon presiden nomor urut 1. \\\"Dari dulu saya sudah mengidolakan Pak Anies saat masih menjadi Rektor Universitas Paramadina. Saya sudah ikuti rekam jejak dan sepak terjangnya,\\\" kata Hidayatullah.\\nSultan Hidayatullah berharap kehadiran Anies di Maluku Utara makin memperkuat pesan perubahan bagi Indonesia lebih adil dan makmur untuk semua. \\\"Semoga hadirnya Pak Anies ini membawa berkah, pencerahan untuk masyarakat Maluku Utara dan memberi keadilan bagi rakyat Maluku Utara saat ini,\\\" ujar dia.\\nMantan Gubernur DKI Jakarta itu mengunjungi Kedaton Kesultanan Ternate bersama istri dan putrinya. Dia disambut dengan prosesi adat Joko Kaha, sebuah ungkapan selamat datang dengan membilas kaki dengan air sentosa, dan membersihkan dengan rumput fartagu.\\nAnies mengatakan, mengapresiasi peran dan kontribusi Kesultanan Ternate yang kini berusia lebih dari 800 tahun. Menurut dia, Kesultanan Ternate telah menjadi bagian yang mempersatukan republik dan juga memberikan sumbangsih besar pada kebudayaan.\\n\\\"Kesultanan ini memiliki adat, tradisi yang mengakar kuat. Jadi kami datang ke sini untuk memberikan rasa hormat, menyampaikan penghormatan dan kami berharap agar Kesultanan Ternate terus menjadi pilar penopang bagi kekuatan kebudayaan Indonesia, kekuatan persatuan Indonesia,\\\" ujar Anies.\\nAnies menyebutkan perjalanannya menemui sultan dan keluarganya sebagai perjalanan kultural sekaligus pesan bahwa di tanah ini sudah ada kemakmuran, kesejahteraan, sudah ada jangkauan dunia yang amat panjang.\\n\\\"Mudah-mudahan dengan perubahan yang akan kita laksanakan dapat mengembalikan tempat ini menjadi tempat yang memberikan kemajuan,\\\" tutur mantan Menteri Pendidikan dan Kebudayaan tersebut.\\nTradisi Joko Kaha atau injak tanah merupakan tanda penghormatan bagi pejabat atau tamu penting yang baru pertama kali menginjakkan kakinya di Bumi Moloku Kieraha, sebutan untuk tanah Maluku Utara.\\nDapatkan kabar pilihan editor dan breaking news di Tempo.co WhatsApp Channel.\\nPasangan Ganjar Pranowo - Mahfud Md dinilai memiliki dilema dalam menghadapi Pilpres 2024 sehingga elektabilitasnya tak moncer.\\nJokowi sebut presiden boleh memihak dan kampanye dalam pemilu. Begini respons Ketua Umum  BEM UGM, Gielbran M. Noor.\\nDalam survei yang dilakukan Skala Data Indonesia elektabilitas Prabowo menempati urutan pertama disusul Anies dan Ganjar.\\nDua kepala dinas Pemprov Maluku Utara dipanggil KPK sebagai saksi untuk Gubernur Maluku Utara Abdul Gani Kasuba (AGK).\\nCawapres nomor urut dua Gibran Rakabuming Raka berjanji bakal mendorong pemerataan pembangunan di masa depan agar tak lagi berpusat di Pulau Jawa.\\nDari mobil kepresidenan yang ditumpangi Presiden Jokowi muncul tangan yang keluar dengan simbol salam dua jari. Kontroversipun bermunculan.\\nDalam kesempatan kampanye di Papua hari ini, cawapres Gibran Rakabuming Raka kembali menegaskan soal pentingnya pembangunan IKN.\\nPolitikus PDIP Deddy Sitorus mengatakan jika Presiden Jokowi ingin bertemu dengan Ketua Umum Megawati Soekarnoputri tak tunggu Pilpres selesai.\\nSimak berita harian lebih mendalam di Majalah Tempo Digital.\"\n",
      "  },\n",
      "  {\n",
      "    \"title\": \"Anies Minta Timnya Batalkan untuk Melaporkan Presiden Jokowi ke Bawaslu\",\n",
      "    \"href\": \"https://pemilukita.republika.co.id/berita/s7v9kf484/anies-minta-timnya-batalkan-untuk-melaporkan-presiden-jokowi-ke-bawaslu\",\n",
      "    \"content\": \"REPUBLIKA.CO.ID, JAKARTA -- Calon presiden (capres) nomor urut 1, Anies Rasyid Baswedan menyampaikan, pihaknya tidak jadi melaporkan Presiden RI Joko Widodo (Jokowi) tentang pernyataan bahwa presiden boleh berkampanye dan memihak pasangan calon (paslon) pada Pemilu 2024.\\n   Anies beralasan, rencana melaporkan Jokowi mengenai perkara tersebut tidaklah penting untuk ditindaklanjuti. \\\"Tidak perlu, buat apa. Sangat (tidak perlu diadukan),\\\" ujar gubernur DKI Jakarta periode 2017-2022 itu.\\n   Anies mengatakan, lebih baik pihaknya fokus dan berkonsentrasi menyampaikan gagasan perubahan dan pemenangan Amin menjelang haris pencoblosan pada 14 Februari 2024. Dia menegaskan tidak akan melayangkan laporan semacam itu ke Bawaslu.\\n\\\"Saya sudah sampaikan kemarin bahwa tidak ada laporan apapun ke pihak lain. Ya sudah kita konsentrasi pada pemenangan, kita konsentrasi pada pesan perubahan,\\\" jelas Anies.\\n   Terpisah, Ketua Tim Hukum Nasional (THN) Amin, Ari Yusuf Amir mengakui, pihaknya tidak jadi melaporkan Jokowi. Hal itu sesuai arahan dari capres Anies. \\\"Soal sikap Jokowi kami tidak akan laporkan. Tapi kalau sudah ada tindakannya, yang melanggar aturan dan merugikan, akan kami laporkan,\\\" kata Ari kepada Republika.co.id.\\n   \\\"Jadi kita sekarang di Jakarta lagi menyiapkan itu, kita format secara baik, kita akan buat laporan ke Bawaslu terkait ini,\\\" kata Ketua THN Amin, Ari Yusuf Amir kepada wartawan di Jakarta, Kamis (25/1/2024).\\nCopyright \\u00a9 2023. Republika.co.id. All rights reserved.\"\n",
      "  },\n",
      "  {\n",
      "    \"title\": \"Anies ajak pendukung menangi Pilpres lewat 40 rumah\",\n",
      "    \"href\": \"https://aceh.antaranews.com/berita/352842/anies-ajak-pendukung-menangi-pilpres-lewat-40-rumah\",\n",
      "    \"content\": \"\"\n",
      "  },\n",
      "  {\n",
      "    \"title\": \"Fokus Pemenangan, Anies Anggap Tak Perlu Bikin Laporan ke Bawaslu soal \\nPernyataan Jokowi\",\n",
      "    \"href\": \"https://www.inilah.com/fokus-pemenangan-anies-anggap-tak-perlu-bikin-laporan-ke-bawaslu-soal-pernyataan-jokowi\",\n",
      "    \"content\": \"Calon Presiden nomor urut 1, Anies Baswedan merespons laporan yang dilakukan Tim Hukum Nasional (THN) Anies Baswedan-Muhaimin Iskandar (AMIN) terkait pernyataan Presiden Joko Widodo (Jokowi) soal presiden boleh kampanye dan memihak. Dia menyebut THN AMIN tak perlu membuat laporan tersebut.\\n\\\"Enggak-enggak. Tidak ada, tidak ada,\\\" ujar Anies di Ternate, Maluku Utara, Jumat (26/1/2024).\\nAlasan Anies tidak perlu membuat laporan tersebut karena dirinya tidak mau terlibat lebih dalam dengan persoalan pihak lain. \\\"Tidak perlu, buat apa?\\\" ujarnya.\\nAnies menyebut dirinya akan lebih konsentrasi menyampaikan gagasan perubahan dengan mengoptimalkan sekitar dua pekan terakhir masa kampanye Pilpres 2024.\\n\\\"Ya sudah, kita konsentrasi pada pemenangan, kita konsentrasi pada pesan perubahan,\\\" tutur Anies, menekankan.\\nSebelumnya, Tim Hukum Anies-Muhaimin (THN AMIN) akan melaporkan Presiden Joko Widodo (Jokowi) ke Badan Pengawas Pemilihan Umum (Bawaslu) dan Komisi Pemilihan Umum (KPU) terkait pernyataan presiden dan menteri boleh memihak dan kampanye.\\n\\\"Kami sudah membuat analisa hukumnya. Nah nanti tinggal sikapnya KPU dan Bawaslu mengambil sikap bagaimana,\\\" kata Ketua THN AMIN, Ari Yusuf Amir, di Palembang, Sumatera Selatan, Kamis (25/1/2024).\\nTHN AMIN akan melaporkan pernyataan Jokowi ini atas dugaan pelanggaran kepentingan berbangsa dan bernegara. Ari mengatakan menteri-menteri atau pejabat publik, ketika mencalonkan diri harus mengundurkan diri. \\\"Jadi kita sekarang di Jakarta lagi menyiapkan itu kita format secara baik kita akan buat laporan ke bawaslu terkait ini,\\\" kata Ari.\"\n",
      "  },\n",
      "  {\n",
      "    \"title\": \"Anies Perintahkan Timnya Cabut Laporan Terhadap Jokowi\",\n",
      "    \"href\": \"https://www.republika.id/posts/49960/anies-perintahkan-timnya-cabut-laporan-terhadap-jokowi\",\n",
      "    \"content\": \"Jokowi mengisyaratkan turun gunung berkampanye memenangkan Prabowo-Gibran.\\nJokowi menghargai keputusan Mahfud mundur dari Kabinet Indonesia maju.\\nPresiden Jokowi menyatakan boleh berkampanye dan memihak paslon tertentu.\"\n",
      "  },\n",
      "  {\n",
      "    \"title\": \"Momen Seorang Warga Sebut Prabowo Pengkhianat saat Anies Kampanye di Padang\",\n",
      "    \"href\": \"https://www.detik.com/sumut/berita/d-7162189/momen-seorang-warga-sebut-prabowo-pengkhianat-saat-anies-kampanye-di-padang\",\n",
      "    \"content\": \"Ada momen menarik saat capres nomor urut 1, Anies Baswedan melaksanakan kampanye terbuka di Kota Padang, Sumatera Barat, pada hari Kamis kemarin. Dalam kampanye itu, seorang warga tiba-tiba naik ke panggung dan menyebut dirinya adalah pendukung Prabowo Subianto di Pilpres 2019 lalu.\\nWarga yang akhirnya diketahui bernama Rizal itu mengaku dulu sangat fanatik dengan Prabowo. Bahkan kala itu, ungkap Rizal, dirinya sampai rela menyumbang uang dan tiga hari tiga malam tanpa tidur menjaga kotak suara, demi Prabowo.\\nNamun, kata Rizal, kini dirinya sudah berpaling dari Prabowo dan memilih mendukung Anies di Pilpres 2024. Pernyataan Rizal tersebut sontak langsung disambut tepuk tangan meriah oleh ribuan pendukung Anies yang memadati area Parkiran Stadion GOR H. Agus Salim, Padang, Kamis (25/1).\\n\\\"2019 saya pendukung Prabowo, bahkan saya menyumbangkan gaji saya untuk Pak Prabowo. Tiga hari tiga malam saya gak tidur jagain kotak Prabowo. Tapi saat ini saya nyatakan Prabowo itu pengkhianat. Dia mengkhianati seluruh rakyat Indonesia terutama petani,\\\" ucap Rizal.\\nLalu Rizal juga ada menyampaikan saat petani kekurangan air, uang dan lahan dalam mengelola sawah beserta ladang, Prabowo malah membabat hutan. Sehingga dia menyebut Prabowo sebagai pengkhianat.\\n\\\"Saat petani kekurangan air, kekurangan uang dan lahan untuk mengelola sawah dan ladang mereka. Prabowo membabat hutan di sana, Prabowo adalah seorang pengkhianat,\\\" sambungnya.\\nDi akhir pernyataannya, Rizal meminta jaminan kepada Anies untuk tidak mengikuti langkah yang diambil Prabowo.\\nSeusai kampanye kemarin, Anies pun menanggapi kekecewaan Rizal. Anies mengaku sudah sangat sering mendengarkan ungkapan kekecewaan seperti yang disampaikan Rizal. Menurut Anies, biasanya ungkapan itu dia dengar dalam ruangan tertutup.\\n\\\"Ungkapan itu merupakan ungkapan yang sangat sering kami dengar. Tapi ungkapan itu di ruangan tertutup, baik itu dalam pertemuan sangat sering juga kami dengar. Memang tidak diungkapkan di ruangan terbuka. Walau tadi ada proses tarik menarik karena dia minta berbicara, tanpa tahu kita apa yang dia bicarakan,\\\" kata Anies saat jumpa pers di Padang.\\nSoal permintaan Rizal agar konsisten memperjuangkan rakyat Indonesia, Anies mengaku selama ini perjuangan yang dia lakukan adalah perjuangan rakyat.\\n\\\"Kami sampaikan, bahwa kita konsisten perjuangan kita adalah perjuangan rakyat,\\\" tutup Anies.\\nSementara itu, Ketua Tim Kampanye Daerah (TKD) AMIN Sumbar, Rahmat Saleh saat dikonfirmasi membenarkan adanya momen tersebut. Dia dan panitia yang lainnya mengaku tidak mengetahui sosok Rizal.\\nKata Rahmat Saleh, Rizal naik ke atas panggung tanpa ada aba-aba. Bahkan panitia awalnya sempat berupaya menghentikan langkah Rizal.\\n\\\"Itu memang terjadi kemarin. Datangnya dia di luar dugaan kita, bahkan kemarin dia ingin merebut mikrofon. Melihat itu kita melapor ke pihak pengaman untuk menghalangi dia untuk tidak memegang mikrofon. Karena kita sendiri tidak tau apa yang mau diucapkan dia,\\\" kata Rahmat Saleh kepada detikSumut, Jumat (26/1/2024).\\nMelihat kegigihan Rizal merebut mikrofon, Rahmat mengaku pihaknya dan panitia lain akhirnya mengizinkan Rizal untuk menyampaikan sesuatu ke Anies. Namun Rizal malah melontarkan kekecewaannya terhadap sosok Prabowo di depan Anies.\\nRahmat Saleh menyebut bahwa Rizal juga mengklaim pernyataan yang disampaikannya mewakili perasaan banyak masyarakat Sumbar saat ini.\\n\\\"Namun ketika dia kemarin berbicara, dia mengucapkan kekecewaan terhadap Prabowo. Itu adalah alami, dia juga meluapkan kemarahan dengan hatinya. Sehingga kita sendiri tidak menyangka dia menyampaikan hal itu,\\\" jelasnya.\\nSehingga dari penyataan Rizal kemarin, TKD AMIN semakin optimis Anies bisa meraih 80 persen suara di Sumbar pada Pilpres 2024 mendatang.\"\n",
      "  },\n",
      "  {\n",
      "    \"title\": \"Bawaslu Hentikan Laporan Anies Dianggap Fitnah Prabowo soal Kepemilikan \\nLahan - Kompas.com\",\n",
      "    \"href\": \"https://nasional.kompas.com/read/2024/01/26/20565811/bawaslu-hentikan-laporan-anies-dianggap-fitnah-prabowo-soal-kepemilikan\",\n",
      "    \"content\": \"JAKARTA, KOMPAS.com - Badan Pengawas Pemilu (Bawaslu) RI menyebut bahwa laporan terhadap calon presiden nomor urut 1, Anies Baswedan terkait pernyataannya yang menyinggung kepemilikan lahan capres nomor urut 2, Prabowo Subianto tak dilanjutkan.\\nBerdasarkan laporan tersebut,\\u00a0pernyataan Anies dalam debat ketiga Pilpres 2024 pada 7 Januari terkait lahan itu dianggap memfitnah dan menghina Prabowo.\\n \\\"Tidak memenuhi unsur materiil,\\\" kata Ketua Bawaslu RI Rahmat Bagja di Kantor Dewan Kehormatan Penyelenggara Pemilu, Jumat (26/1/2024).\\n Menurut Peraturan Bawaslu Nomor 7 Tahun 2022 tentang Penanganan Laporan dan Pelanggaran, setiap laporan yang masuk ke Bawaslu memang akan dikaji terlebih dulu apakah memenuhi syarat formil dan materiil.\\n Sebuah laporan dugaan pelanggaran pemilu harus memenuhi kedua syarat tersebut sekaligus agar bisa diregistrasi menjadi perkara yang kelak akan dihidangkan di meja hijau Bawaslu.\\n \\\"Pidananya enggak ada. Tidak ada bukti. Dugaan pidananya nggak terbukti (sehingga) tidak diteruskan menjadi penyidikan kami ataupun perkara,\\\" ujar Bagja.\\n Sebelumnya, Anies dilaporkan oleh kelompok yang menyebut diri mereka Pendekar Hukum Pemilu Bersih (PHPB).\\n Pasal yang dituduhkan terhadap Anies yakni Pasal 280 Ayat (1) huruf c Undang-Undang Nomor 7 Tahun 2017 tentang Pemilu (UU Pemilu).\\nPada debat Pilpres 2019, rival Prabowo yang kini mendukungnya, Presiden Joko Widodo, juga pernah dilaporkan ke Bawaslu karena pernyataan yang sama, dengan tuduhan pasal yang sama.\\nCopyright 2008 - 2023 PT. Kompas Cyber Media (Kompas Gramedia Digital Group). All Rights Reserved.\\nSegera lengkapi data dirimu untuk ikutan program #JernihBerkomentar.\"\n",
      "  },\n",
      "  {\n",
      "    \"title\": \"Anies Perintahkan Timsesnya Cabut Laporan Terhadap Jokowi di Bawaslu\",\n",
      "    \"href\": \"https://kabar24.bisnis.com/read/20240126/15/1735843/anies-perintahkan-timsesnya-cabut-laporan-terhadap-jokowi-di-bawaslu\",\n",
      "    \"content\": \"Bisnis.com, JAKARTA \\u2013 Calon presiden (capres) nomor urut 1 Anies Baswedan mengaku telah memberi perintah kepada Tim Nasional Anies-Muhaimin Iskandar (Timnas AMIN) untuk mencabut laporan terhadap Presiden Joko Widodo (Jokowi) ke Badan Pengawas Pemilu (Bawaslu).\\nBisnis.com, JAKARTA \\u2013 Calon presiden (capres) nomor urut 1 Anies Baswedan mengaku telah memberi perintah kepada Tim Nasional Anies-Muhaimin Iskandar (Timnas AMIN) untuk mencabut laporan terhadap Presiden Joko Widodo (Jokowi) ke Badan Pengawas Pemilu (Bawaslu).\\nSebagai informasi, laporan yang dimaksud berkaitan dengan pernyataan Jokowi yang menyebut bahwa presiden dapat turut berkampanye dan memihak dalam gelaran pemilu.\\nSebagai informasi, laporan yang dimaksud berkaitan dengan pernyataan Jokowi yang menyebut bahwa presiden dapat turut berkampanye dan memihak dalam gelaran pemilu.\\n\\u201cEnggak-enggak, dicabut itu. Saya sudah perintahkan, tidak ada [pelaporan], tidak ada,\\u201d katanya usai berkampanye di Ternate, Maluku Utara, Jumat (26/1/2024).\\n\\u201cEnggak-enggak, dicabut itu. Saya sudah perintahkan, tidak ada [pelaporan], tidak ada,\\u201d katanya usai berkampanye di Ternate, Maluku Utara, Jumat (26/1/2024).\\nKetika ditanya perihal alasan perintah pencabutan laporan itu, Anies hanya mengatakan bahwa hal tersebut tidak perlu dilakukan.\\nKetika ditanya perihal alasan perintah pencabutan laporan itu, Anies hanya mengatakan bahwa hal tersebut tidak perlu dilakukan.\\nMantan Gubernur DKI Jakarta ini mengimbau agar pihaknya berfokus pada pemenangan di Pilpres 2024, alih-alih mempermasalahkan pernyataan Jokowi.\\nMantan Gubernur DKI Jakarta ini mengimbau agar pihaknya berfokus pada pemenangan di Pilpres 2024, alih-alih mempermasalahkan pernyataan Jokowi.\\n\\u201cTidak perlu, buat apa? Biarlah, kami akan konsentrasi kepada menyampaikan gagasan perubahan, dan saya sudah sampaikan kemarin bahwa tidak ada laporan apa pun ke pihak lain,\\u201d tegasnya.\\n\\u201cTidak perlu, buat apa? Biarlah, kami akan konsentrasi kepada menyampaikan gagasan perubahan, dan saya sudah sampaikan kemarin bahwa tidak ada laporan apa pun ke pihak lain,\\u201d tegasnya.\\nSebelumnya, Ketua Tim Hukum Nasional (THN) AMIN Ari Yusuf Amir menyatakan bakal melaporkan Jokowi ke Bawaslu buntut pernyataan presiden boleh berkampanye dan memihak salah satu paslon dalam pemilu.\\nSebelumnya, Ketua Tim Hukum Nasional (THN) AMIN Ari Yusuf Amir menyatakan bakal melaporkan Jokowi ke Bawaslu buntut pernyataan presiden boleh berkampanye dan memihak salah satu paslon dalam pemilu.\\nAri menyesalkan pernyataan Jokowi sebagai figur presiden yang seharusnya menjaga stabilitas politik hingga akar rumput, terutama di tengah tensi Pemilu 2024 yang kian memanas.\\nAri menyesalkan pernyataan Jokowi sebagai figur presiden yang seharusnya menjaga stabilitas politik hingga akar rumput, terutama di tengah tensi Pemilu 2024 yang kian memanas.\\nDia mengatakan telah menyiapkan format laporan terkait pernyataan Jokowi itu ke Bawaslu agar kemudian ditindaklanjuti.\\nDia mengatakan telah menyiapkan format laporan terkait pernyataan Jokowi itu ke Bawaslu agar kemudian ditindaklanjuti.\\n\\\"Dengan pernyataan terang-terangan seperti itu tentunya akan membuat dampak yang tidak baik bagi stabilitas politik kita,\\\" tuturnya kepada wartawan, Kamis (25/1/2024).\\n\\\"Dengan pernyataan terang-terangan seperti itu tentunya akan membuat dampak yang tidak baik bagi stabilitas politik kita,\\\" tuturnya kepada wartawan, Kamis (25/1/2024).\\nPernyataan yang dimaksud Ari disampaikan Jokowi di depan Menteri Pertahanan (Menhan) sekaligus capres nomor urut 2 Prabowo Subianto, yang mendampinginya dalam seremoni penyerahan pesawat militer di Lanud Halim Perdana Kusuma, Jakarta Timur, Rabu (24/1/2024).\\nPernyataan yang dimaksud Ari disampaikan Jokowi di depan Menteri Pertahanan (Menhan) sekaligus capres nomor urut 2 Prabowo Subianto, yang mendampinginya dalam seremoni penyerahan pesawat militer di Lanud Halim Perdana Kusuma, Jakarta Timur, Rabu (24/1/2024).\\n\\u201cSetiap menteri [haknya] sama saja, [bahkan] Presiden itu boleh loh kampanye. Presiden itu boleh loh memihak. Boleh. Namun, yang paling penting waktu kampanye tidak boleh menggunakan fasilitas negara. Jadi, boleh,\\u201d ujarnya ayah cawapres pendamping Prabowo, Gibran Rakabuming Raka ini, dikutip Jumat (26/1/2024).\\n\\u201cSetiap menteri [haknya] sama saja, [bahkan] Presiden itu boleh loh kampanye. Presiden itu boleh loh memihak. Boleh. Namun, yang paling penting waktu kampanye tidak boleh menggunakan fasilitas negara. Jadi, boleh,\\u201d ujarnya ayah cawapres pendamping Prabowo, Gibran Rakabuming Raka ini, dikutip Jumat (26/1/2024).\"\n",
      "  },\n",
      "  {\n",
      "    \"title\": \"Anies Janjikan Pemerataan Pembangunan dan Pendidikan di Maluku Utara\",\n",
      "    \"href\": \"https://www.detik.com/sulsel/berita/d-7162451/anies-janjikan-pemerataan-pembangunan-dan-pendidikan-di-maluku-utara\",\n",
      "    \"content\": \"Capres nomor urut 1 Anies Baswedan menggelar kampanye di Kota Ternate, Maluku Utara. Dalam kesempatan itu, Anies menyebut proyeksi pembangunan di Maluku Utara masih timpang dibanding ibu kota negara.\\n\\\"Tadi salah satu yang kita bahas (bersama sultan Ternate) di dalam (kedaton) adalah, betapa timpangnya pembangunan yang terjadi di sini dibandingan dengan pembangunan yang berada di wilayah ibu kota,\\\" ujar Anies kepada wartawan, Jumat (26/1/2024).\\nAnies memaparkan, Maluku Utara sejak ratusan tahun silam adalah daerah yang makmur, sejahtera, dan saling terhubung dengan dunia luar. Namun sampai saat ini menurutnya masih terjadi ketimpangan. Anies pun berjanji akan mengembalikan Maluku Utara dalam kejayaannya agar setara dengan daerah lainnya.\\n\\\"Bahwa di tanah ini sudah ada kemakmuran, sudah ada kesejahteraan, sudah ada jangkauan dunia yang amat panjang. Mudah-mudahan dengan perubahan yang insyaallah kita akan laksanakan, akan kita bisa mengembalikan tempat ini menjadi tempat yang memberikan kemajuan,\\\" ujarnya.\\n\\\"Sudah saatnya kita lakukan perubahan agar semua tempat punya kesetaraan pembangunan,\\\" tambah Anies.\\nAnies lalu mengenang kunjungannya ke Kabupaten Halmahera Selatan pada tahun 2011. Ketika tiba di Pulau Bacan dan mendatangi desa-desa, kondisi saat itu belum ada jaringan telepon hingga listrik.\\n\\\"Tidak ada listrik. Nah, pada saat itu saya merasakan betul sebagai seseorang yang hidup besar di Pulau Jawa, datang ke sini merasakan ketimpangan yang luar biasa,\\\" ujarnya.\\nLebih lanjut Anies menuturkan, saat itu guru-guru yang ditemuinya bercerita bahwa anak-anak di Halmahera Selatan punya kemampuan yang luar biasa, mulai dari nutrisi, otot, dan otak. Karena sejak kecil mereka mengkonsumsi ikan segar hasil tangkapan di laut. Namun mereka tidak punya kesempatan untuk menempuh pendidikan yang lebih tinggi.\\n\\\"Ototnya sehat, otaknya cerdas. Jadi kemampuannya sangat tinggi, yang rendah itu kesempatannya. Kemampuan yang tinggi ditambah kesempatan menghasilkan keberhasilan. Tapi kalau kemampuan tinggi tanpa kesempatan, dia tidak akan menghasilkan keberhasilan,\\\" ujar Anies.\\n\\\"Jadi saya ditunjukkan tentang ketimpangan yang saya alami pada saat itu, saya naik kapal dari Ternate ke Halmahera, semalam kapalnya. Itulah sebabnya kami merasa kesetaraan dan keadilan itu menjadi agenda penting, dan sekarang saya melanjutkan agenda itu ketika ada kontestasi Pilpres,\\\" tambahnya.\\nAnies pun menegaskan bahwa bukan karena maju sebagai capres dirinya berbicara tentang ketimpangan. Sebab sejak bertugas di luar negeri, ia memulai dengan mengirimkan guru-guru ke luar. Tujuannya agar mereka mendapatkan kesempatan untuk maju.\\n\\\"Jadi kalau ditanya di mana? Pasti kami mulainya dari generasi baru yang terdidik dengan baik, kualitas pendidikan baik, sehingga kemampuan yang mereka miliki bisa bertemu dengan kesempatan. Karena kesempatan lebih banyak lewat pendidikan. Dari situ harapannya mereka akan punya masa depan yang baik,\\\" paparnya.\\nAnies juga menyinggung skema bagi hasil dari sumber daya alam yang terdapat di Maluku Utara. Menurutnya, hampir semua masyarakat tidak merasakan pembagian secara merata.\\n\\\"Kedua, tentang cara membagi hasil dari sumber daya alam yang kaya, kekayaan itu tidak dirasakan setara pembagiannya oleh daerah penghasil. Jadi di sini pertumbuhan ekonominya di atas kertas tinggi, tapi penyerapan tenaga kerjanya rendah, perekonomian keluarga di sini rendah, karena pertumbuhan ekonomi yang tinggi itu dananya terserap di pusat, nah ini yang harus kita lakukan perubahan,\\\" imbuh Anies.\"\n",
      "  }\n",
      "]\n"
     ]
    }
   ],
   "source": [
    "for link in links:\n",
    "    response = requests.get(link['href'], headers={'User-Agent': 'Mozilla/5.0 (Macintosh; Intel Mac OS X 10.15; rv:121.0) Gecko/20100101 Firefox/121.0'})\n",
    "    response.raise_for_status()\n",
    "    soup = bs4.BeautifulSoup(response.text, 'html.parser')\n",
    "    contentElems = soup.select('p, span, div.post-content')\n",
    "    # filter only elements with text that ends with . (dot) or \" (double quotation) and contain more than 5 words\n",
    "    contentElems = list(filter(lambda elem: re.search(r'(\\.|\\\"|\\?|\\')$', elem.getText()) and len(elem.getText().split()) > 5, contentElems))\n",
    "    content = '\\n'.join(map(lambda elem: elem.getText(), contentElems))\n",
    "    link['content'] = content\n",
    "\n",
    "print(json.dumps(links, indent=2))"
   ]
  }
 ],
 "metadata": {
  "kernelspec": {
   "display_name": "Python 3",
   "language": "python",
   "name": "python3"
  },
  "language_info": {
   "codemirror_mode": {
    "name": "ipython",
    "version": 3
   },
   "file_extension": ".py",
   "mimetype": "text/x-python",
   "name": "python",
   "nbconvert_exporter": "python",
   "pygments_lexer": "ipython3",
   "version": "3.10.12"
  }
 },
 "nbformat": 4,
 "nbformat_minor": 2
}
